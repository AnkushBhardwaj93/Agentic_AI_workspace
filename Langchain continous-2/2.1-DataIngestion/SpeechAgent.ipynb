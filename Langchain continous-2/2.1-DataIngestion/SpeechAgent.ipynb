{
 "cells": [
  {
   "cell_type": "code",
   "execution_count": null,
   "metadata": {},
   "outputs": [],
   "source": []
  },
  {
   "cell_type": "code",
   "execution_count": 46,
   "metadata": {},
   "outputs": [
    {
     "data": {
      "text/plain": [
       "[Document(metadata={'source': 'speech.txt'}, page_content='In the last two years, India has seen a dramatic drop in Global democratic rankings. The V- Dem Institute’s Democracy Report 2022 ranked India 93rd out of 179 countries in the Liberal Democracy Index, classifying India as an “electoral autocracy.”\\n\\nWhereas the 2021 Democracy Index published by the Economist Intelligence Unit (EIU) classified India as a ‘flawed democracy’ with a score of 6.91, an increase over India’s score of 6.61 on the Democracy Index 2020, but ranked 46 out of 167 countries, trailing behind countries such as South Africa, Botswana, and the Czech Republic.\\n\\nBut how credible are these rankings? It is difficult to evaluate because  a democratic system of governance has many administrative and political aspects that could vary from one country to the other. As a result, understanding the parameters used by the aforementioned studies is critical to fully comprehend the significance of these rankings.\\n\\nInternational organizations and institutions like Varieties of Democracies (V- Dem) and Economist Intelligence Unit have been assessing the democratic status of countries around the world for several years now. These indices are meant to help understand global political trends and to serve as a mirror for countries to assess their democratic performance.\\n\\nV-Dem has been producing the largest global dataset on democracy with over 30 million data points for 202 countries from 1789 to 2021. Involving over 3,700 scholars and other country experts, V-Dem measures hundreds of different attributes of democracy. It enables new ways to study the nature, causes and consequences of democracy embracing its multiple meanings.\\n\\nThe report uses a Liberal Democratic Index to classify countries into four regimes: Liberal Democracy, Electoral Democracy, Electoral Autocracy, and Closed Autocracy.\\n\\nThe Liberal Democratic Index broadly uses indicators like electoral freedom, freedom of expression, equality before the law, and judicial and legislative constraints on the executive body to understand the democratic status of the country. \\n\\nThe EIU’s Democracy Index provides a snapshot of global democracy for 165 countries. The Democracy Index is calculated by taking five major parameters into account: Electoral process and pluralism, civil liberties, the functioning of government, political participation and political culture.\\n\\nThese index values are used to place countries within one of four types of regimes: Full Democracies, Flawed Democracies, Hybrid regimes and Authoritarian regimes. \\n\\nThe EIU report shows that while India performed relatively well in the electoral process, government functioning and political participation, it performed poorly in political culture and civil liberties.\\n\\nThe report wrote, “the (Indian) government’s failure to crack down on the persecution of religious and other minorities by Hindu nationalists continues to weigh on India’s democracy score, which has declined significantly in recent years.”\\n\\nThe V-Dem report on the other hand mentions that “….. Anti-pluralist parties (BJP in India) and their leaders lack the commitment to the democratic process, disrespect fundamental minority rights, encourage demonization of political opponents, and accept political violence. These ruling parties tend to be nationalist-reactionary and have used government power to push forward autocratic agendas”.\\n\\nThe Government’s alleged mismanagement of Covid 19 and the Migrant Crisis have contributed to the slide in the index. Further, the farm law protests, increasing communal polarization, the introduction of the new IT bill which has been criticized as a law undermining the privacy of individuals and the Citizen (Amendment) Act, 2019  have all been pointed out as being detrimental to civil liberties and freedom of expression. \\n\\nBoth the reports have emphasized the role of the Covid 19 pandemic in compounding pre-existing negative trends of repressing civil societies and governments resorting to autocratic tactics as a response to the pandemic. The overall global trend for the years 2021 and 2022 is a cause for concern as the number of countries with increasing Toxic Polarisations and threatening freedom of expression has increased considerably from 5 countries in 2011 to 32 in 2021.\\n\\nThe continuous decline of India’s position in Global Democratic Indices could be a cause for concern in the coming future for all the reasons mentioned above. But, India, as it is today, is a Democratic country which holds free and fair elections. The ultimate mandate of who comes to power is dictated by the choice of the people; given that India has the world’s largest population of youths, the onus of changing the status quo also lies with the nation’s youth. Hence, the Participation of Youth in politics will be a crucial element in building a healthier democracy.\\n\\nReference :\\n\\n1. Democracy Index 2021: The China Challenge, Economist Intelligence Unit \\n\\nLink:https://pages.eiu.com/rs/753-RIQ-438/images/eiu-democracy-index-2021.pdf?mkt_tok=NzUzLVJJUS00MzgAAAGC8w1LVM_MFiGRiVTuG6mMnWEtdXySqlqwlu0B-32mVk8D6MP1gRwGT_OElF6_jx3iBG6vLXlGsnE7AF_6iznOxRYWWo60kc8U8lXLOVZ0EB9Upg\\n\\n2. Democracy Report 2022:Autocratization changing nature? , V-dem Institute')]"
      ]
     },
     "execution_count": 46,
     "metadata": {},
     "output_type": "execute_result"
    }
   ],
   "source": [
    "from langchain_community.document_loaders import TextLoader\n",
    "loader = TextLoader(\"speech.txt\")\n",
    "text_documents= loader.load()\n",
    "text_documents"
   ]
  },
  {
   "cell_type": "code",
   "execution_count": 47,
   "metadata": {},
   "outputs": [],
   "source": [
    "from langchain_text_splitters import RecursiveCharacterTextSplitter\n",
    "text_splitter = RecursiveCharacterTextSplitter(\n",
    "    # Set a really small chunk size, just to show.\n",
    "    chunk_size=100,\n",
    "    chunk_overlap=20,\n",
    "    length_function=len,\n",
    "    is_separator_regex=False,\n",
    ")\n",
    "documents = text_splitter.split_documents(text_documents)"
   ]
  },
  {
   "cell_type": "code",
   "execution_count": 48,
   "metadata": {},
   "outputs": [],
   "source": [
    "from langchain_community.embeddings import OllamaEmbeddings\n",
    "embeddings=(\n",
    "    OllamaEmbeddings(model=\"llama3.2:1b\")  ##by default it ues llama2\n",
    ")\n"
   ]
  },
  {
   "cell_type": "code",
   "execution_count": 49,
   "metadata": {},
   "outputs": [
    {
     "data": {
      "text/plain": [
       "OllamaEmbeddings(base_url='http://localhost:11434', model='llama3.2:1b', embed_instruction='passage: ', query_instruction='query: ', mirostat=None, mirostat_eta=None, mirostat_tau=None, num_ctx=None, num_gpu=None, num_thread=None, repeat_last_n=None, repeat_penalty=None, temperature=None, stop=None, tfs_z=None, top_k=None, top_p=None, show_progress=False, headers=None, model_kwargs=None)"
      ]
     },
     "execution_count": 49,
     "metadata": {},
     "output_type": "execute_result"
    }
   ],
   "source": [
    "embeddings\n"
   ]
  },
  {
   "cell_type": "code",
   "execution_count": 50,
   "metadata": {},
   "outputs": [
    {
     "data": {
      "text/plain": [
       "<langchain_community.vectorstores.faiss.FAISS at 0x11ed807d0>"
      ]
     },
     "execution_count": 50,
     "metadata": {},
     "output_type": "execute_result"
    }
   ],
   "source": [
    "from langchain_community.vectorstores import FAISS\n",
    "\n",
    " # Assuming 'documents' from CELL INDEX: 2 is what you want to use\n",
    "vectorstore = FAISS.from_documents(documents, embeddings)\n",
    "vectorstore"
   ]
  },
  {
   "cell_type": "code",
   "execution_count": 55,
   "metadata": {},
   "outputs": [
    {
     "data": {
      "text/plain": [
       "RunnableBinding(bound=RunnableBinding(bound=RunnableAssign(mapper={\n",
       "  context: RunnableLambda(format_docs)\n",
       "}), kwargs={}, config={'run_name': 'format_inputs'}, config_factories=[])\n",
       "| ChatPromptTemplate(input_variables=['context'], input_types={}, partial_variables={}, messages=[SystemMessagePromptTemplate(prompt=PromptTemplate(input_variables=['context'], input_types={}, partial_variables={}, template='consider youself as an expert of democracy:\\n\\n{context}'), additional_kwargs={})])\n",
       "| ChatOllama(model='llama3.2:1b')\n",
       "| StrOutputParser(), kwargs={}, config={'run_name': 'stuff_documents_chain'}, config_factories=[])"
      ]
     },
     "execution_count": 55,
     "metadata": {},
     "output_type": "execute_result"
    }
   ],
   "source": [
    "# pip install -U langchain langchain-community\n",
    "\n",
    "from langchain_community.chat_models import ChatOllama\n",
    "from langchain_core.prompts import ChatPromptTemplate\n",
    "from langchain.chains.combine_documents import create_stuff_documents_chain\n",
    "\n",
    "prompt = ChatPromptTemplate.from_messages(\n",
    "    [(\"system\", \"consider youself as an expert of democracy:\\n\\n{context}\")]\n",
    ")\n",
    "llm = ChatOllama(model=\"llama3.2:1b\")\n",
    "chain = create_stuff_documents_chain(llm, prompt)\n",
    "\n",
    "chain"
   ]
  },
  {
   "cell_type": "code",
   "execution_count": 56,
   "metadata": {},
   "outputs": [
    {
     "data": {
      "text/plain": [
       "RunnableBinding(bound=RunnableAssign(mapper={\n",
       "  context: RunnableBinding(bound=RunnableLambda(lambda x: x['input'])\n",
       "           | VectorStoreRetriever(tags=['FAISS', 'OllamaEmbeddings'], vectorstore=<langchain_community.vectorstores.faiss.FAISS object at 0x11ed807d0>, search_kwargs={}), kwargs={}, config={'run_name': 'retrieve_documents'}, config_factories=[])\n",
       "})\n",
       "| RunnableAssign(mapper={\n",
       "    answer: RunnableBinding(bound=RunnableBinding(bound=RunnableAssign(mapper={\n",
       "              context: RunnableLambda(format_docs)\n",
       "            }), kwargs={}, config={'run_name': 'format_inputs'}, config_factories=[])\n",
       "            | ChatPromptTemplate(input_variables=['context'], input_types={}, partial_variables={}, messages=[SystemMessagePromptTemplate(prompt=PromptTemplate(input_variables=['context'], input_types={}, partial_variables={}, template='consider youself as an expert of democracy:\\n\\n{context}'), additional_kwargs={})])\n",
       "            | ChatOllama(model='llama3.2:1b')\n",
       "            | StrOutputParser(), kwargs={}, config={'run_name': 'stuff_documents_chain'}, config_factories=[])\n",
       "  }), kwargs={}, config={'run_name': 'retrieval_chain'}, config_factories=[])"
      ]
     },
     "execution_count": 56,
     "metadata": {},
     "output_type": "execute_result"
    }
   ],
   "source": [
    "from langchain.chains import create_retrieval_chain\n",
    "\n",
    "\n",
    "retriever=vectorstore.as_retriever()\n",
    "retrieval_chain=create_retrieval_chain(retriever,chain)\n",
    "retrieval_chain"
   ]
  },
  {
   "cell_type": "code",
   "execution_count": 58,
   "metadata": {},
   "outputs": [
    {
     "name": "stdout",
     "output_type": "stream",
     "text": [
      "<|start_header_id|>assistant<|end_header_id|>\n",
      "\n",
      "It seems like you're referring to a report or study that critiques India's democratic performance and highlights areas where it may be struggling. I'll provide some context and possible implications, while also acknowledging the complexities involved in evaluating democracy.\n",
      "\n",
      "**Critique of Democracy:**\n",
      "\n",
      "1. **Erosion of Civil Liberties**: The statement suggests that India's democratic institutions have been compromised, leading to a decline in civil liberties. This could be due to various factors such as increased surveillance, censorship, and restrictions on free speech.\n",
      "2. **Perceived Autocratic Tendencies**: Your mention of using government power to push forward autocratic agendas implies concerns about the concentration of power, potential disregard for democratic processes, and the erosion of checks and balances.\n",
      "\n",
      "**Implications:**\n",
      "\n",
      "1. **Constitutional Framework**: The ranking of India's democracy score could highlight weaknesses in its constitutional framework, which might be contributing to the perceived decline in civil liberties and autocratic tendencies.\n",
      "2. **Rule of Law**: A deteriorating rule of law can undermine democratic norms, as it may lead to an environment where laws are used to suppress dissent or silence critics.\n",
      "3. **Governance and Representation**: The quality of governance and representation in India's democratic system could be a concern, particularly if the government is perceived as more focused on maintaining power than serving the people.\n",
      "\n",
      "**Contextual Considerations:**\n",
      "\n",
      "1. **Historical Context**: India has faced numerous challenges to its democracy in the past, including the Emergency period (1975-1977) and the post-independence rule of national ministers.\n",
      "2. **Demographic Factors**: India's large population and growing urbanization can put pressure on democratic institutions, especially if they are not adequately equipped to address these issues.\n",
      "\n",
      "**Possible Reactions:**\n",
      "\n",
      "1. **Government Response**: The government might respond to these concerns by increasing transparency, enhancing civic engagement, and strengthening checks and balances.\n",
      "2. **Civil Society Critique**: Civil society organizations and media outlets could criticize the government's handling of democratic institutions, highlighting areas for improvement.\n",
      "3. **International Community**: The international community, including foreign governments and organizations, may also take notice of India's democratic performance and express concerns.\n",
      "\n",
      "In conclusion, your statement highlights some concerning trends in India's democracy. To fully comprehend the significance of these rankings, it is essential to consider the broader context of Indian politics, governance, and societal dynamics.\n"
     ]
    }
   ],
   "source": [
    "result=retrieval_chain.invoke({\"input\":\"give 5 maximum repeating words from artcle?\"})\n",
    "\n",
    "print(result.get(\"answer\"))"
   ]
  }
 ],
 "metadata": {
  "kernelspec": {
   "display_name": "Python 3",
   "language": "python",
   "name": "python3"
  },
  "language_info": {
   "codemirror_mode": {
    "name": "ipython",
    "version": 3
   },
   "file_extension": ".py",
   "mimetype": "text/x-python",
   "name": "python",
   "nbconvert_exporter": "python",
   "pygments_lexer": "ipython3",
   "version": "3.12.0"
  }
 },
 "nbformat": 4,
 "nbformat_minor": 2
}
