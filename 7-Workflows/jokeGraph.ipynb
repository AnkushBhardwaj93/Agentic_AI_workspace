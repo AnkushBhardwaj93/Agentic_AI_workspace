{
 "cells": [
  {
   "cell_type": "code",
   "execution_count": 1,
   "metadata": {},
   "outputs": [
    {
     "data": {
      "text/plain": [
       "ChatGroq(client=<groq.resources.chat.completions.Completions object at 0x10b378ce0>, async_client=<groq.resources.chat.completions.AsyncCompletions object at 0x10b379d60>, model_name='gemma2-9b-it', model_kwargs={}, groq_api_key=SecretStr('**********'))"
      ]
     },
     "execution_count": 1,
     "metadata": {},
     "output_type": "execute_result"
    }
   ],
   "source": [
    "import os\n",
    "from dotenv import load_dotenv\n",
    "load_dotenv()\n",
    "\n",
    "os.environ[\"GROQ_API_KEY\"] = os.getenv(\"GROQ_API_KEY\")\n",
    "\n",
    "from langchain_groq import ChatGroq\n",
    "llm = ChatGroq(model=\"gemma2-9b-it\")\n",
    "llm"
   ]
  },
  {
   "cell_type": "code",
   "execution_count": 2,
   "metadata": {},
   "outputs": [],
   "source": [
    "from typing_extensions import TypedDict\n",
    "from langgraph.graph import StateGraph,START,END\n",
    "class State(TypedDict):\n",
    "      topic: str\n",
    "      joke: str\n",
    "      improved_joke: str\n",
    "      final_joke: str"
   ]
  },
  {
   "cell_type": "code",
   "execution_count": 3,
   "metadata": {},
   "outputs": [],
   "source": [
    "#nodes\n",
    "def generate_joke(state:State):\n",
    "      \"\"\"first LLm call to genrate inital joke\"\"\"\n",
    "      msg = llm.invoke(\n",
    "          f\"Generate a joke about a {state['topic']}\",\n",
    "      )\n",
    "      return {\"joke\":msg.content}\n",
    "\n",
    "def check_punchline(state:State):\n",
    "      \"\"\"Gate to check if joke is funny or not\"\"\"\n",
    "\n",
    "      if \"?\" in state[\"joke\"]:\n",
    "          return \"Fail\"\n",
    "      return \"Pass\""
   ]
  },
  {
   "cell_type": "code",
   "execution_count": 4,
   "metadata": {},
   "outputs": [],
   "source": [
    "def improve_joke(state:State):\n",
    "      \"\"\"Second LLM call to improve the joke\"\"\"\n",
    "      msg = llm.invoke(\n",
    "          f\"Make this joke funnier: {state['joke']}\",\n",
    "      )\n",
    "      return {\"improved_joke\":msg.content}\n",
    "\n",
    "def polish_joke(state:State):\n",
    "      \"\"\"Final LLM call to polish the joke\"\"\"\n",
    "      msg = llm.invoke(\n",
    "          f\"Polish this joke: {state['improved_joke']}\",\n",
    "      )\n",
    "      return {\"final_joke\":msg.content}"
   ]
  },
  {
   "cell_type": "code",
   "execution_count": 7,
   "metadata": {},
   "outputs": [],
   "source": [
    "workflow = StateGraph(State)\n",
    "\n",
    "workflow.add_node(\"generate_joke\", generate_joke)\n",
    "workflow.add_node(\"improve_joke\", improve_joke)\n",
    "workflow.add_node(\"polish_joke\", polish_joke)\n",
    "\n",
    "workflow.add_edge(START, \"generate_joke\")\n",
    "workflow.add_conditional_edges(\n",
    "    \"generate_joke\", check_punchline,{\n",
    "        \"Fail\": \"improve_joke\", \"Pass\": END\n",
    "    }\n",
    ")\n",
    "workflow.add_edge(\"improve_joke\", \"polish_joke\")\n",
    "workflow.add_edge(\"polish_joke\", END)\n",
    "\n",
    "graph =workflow.compile()\n"
   ]
  },
  {
   "cell_type": "code",
   "execution_count": 6,
   "metadata": {},
   "outputs": [
    {
     "data": {
      "text/plain": [
       "{'topic': 'Generate a joke about a cat',\n",
       " 'joke': \"Why don't cats play poker in the jungle? \\n\\nToo many cheetahs! 😹  \\n\",\n",
       " 'improved_joke': \"Here are a few ways to tweak the joke to make it funnier:\\n\\n**Playing with Puns:**\\n\\n*  Why don't cats play poker in the jungle? Too many cheetahs! They're always trying to **claw** their way to the top. 😹\\n* Why don't cats play poker in the jungle? **Too many felines with a shady past!**  😹\\n\\n**Adding Absurdity:**\\n\\n* Why don't cats play poker in the jungle? **The stakes are too high!**  One wrong move and you could end up as a lion's lunch.😹\\n* Why don't cats play poker in the jungle?  **The monkeys keep throwing bananas at the table!** 😹\\n\\n**Unexpected Twist:**\\n\\n* Why don't cats play poker in the jungle? **They prefer blackjack.**  😹 (This plays on the stereotype of cats liking to gamble.)\\n\\n**Remember:**  Humor is subjective! What one person finds funny, another might not.  Experiment with different variations and see what gets the best reaction. \\n\\n\\n\",\n",
       " 'final_joke': 'You\\'ve got some great ideas for polishing the joke! Here\\'s a breakdown of why they work and some additional thoughts:\\n\\n**Strengths of Your Tweaks:**\\n\\n* **Puns:**  The \"cheetahs\" and \"claw\" puns are classic and work well. They\\'re unexpected and rely on wordplay, which is a key ingredient in humor.\\n* **Absurdity:**  The high stakes and monkey banana-throwing scenarios are funny because they\\'re so ridiculous.  They take the premise to an illogical extreme, which often leads to laughter.\\n* **Unexpected Twist:** The blackjack twist subverts expectations. We assume the joke will be about jungle dangers, so the focus on a different card game is a surprise.\\n\\n**Polishing Tips:**\\n\\n* **Delivery Matters:**  Even a great joke can fall flat without good delivery. Practice your timing, tone, and facial expressions.\\n* **Target Audience:** Consider who you\\'re telling the joke to. What kind of humor do they appreciate?\\n* **Keep it Concise:**  Jokes are most effective when they\\'re short and to the point. \\n\\n\\n**My Favorite from Your List:**\\n\\nI think the \"cheetahs\" pun is the strongest because it\\'s both clever and relevant to the context. \\n\\n**A Few More Ideas:**\\n\\n* Why don\\'t cats play poker in the jungle? **Because the lion always has a royal flush!**\\n\\nLet me know if you\\'d like to brainstorm more!\\n'}"
      ]
     },
     "execution_count": 6,
     "metadata": {},
     "output_type": "execute_result"
    }
   ],
   "source": [
    "graph.invoke({\"topic\":\"Generate a joke about a cat\"})\n",
    "# graph.visualize()"
   ]
  }
 ],
 "metadata": {
  "kernelspec": {
   "display_name": "Python 3",
   "language": "python",
   "name": "python3"
  },
  "language_info": {
   "codemirror_mode": {
    "name": "ipython",
    "version": 3
   },
   "file_extension": ".py",
   "mimetype": "text/x-python",
   "name": "python",
   "nbconvert_exporter": "python",
   "pygments_lexer": "ipython3",
   "version": "3.12.0"
  }
 },
 "nbformat": 4,
 "nbformat_minor": 2
}
