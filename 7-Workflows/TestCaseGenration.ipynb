{
 "cells": [
  {
   "cell_type": "markdown",
   "metadata": {},
   "source": [
    "We are designing a wrokflow related to test case genration using langgraph\n",
    "code-review-genrate test cases- run the tests-analyzethe failed test-give summary"
   ]
  },
  {
   "cell_type": "code",
   "execution_count": 5,
   "metadata": {},
   "outputs": [
    {
     "data": {
      "text/plain": [
       "ChatGroq(client=<groq.resources.chat.completions.Completions object at 0x11125d880>, async_client=<groq.resources.chat.completions.AsyncCompletions object at 0x11125e7b0>, model_name='gemma2-9b-it', model_kwargs={}, groq_api_key=SecretStr('**********'))"
      ]
     },
     "execution_count": 5,
     "metadata": {},
     "output_type": "execute_result"
    }
   ],
   "source": [
    "import os\n",
    "from dotenv import load_dotenv\n",
    "load_dotenv()\n",
    "\n",
    "os.environ[\"GROQ_API_KEY\"] = os.getenv(\"GROQ_API_KEY\")\n",
    "\n",
    "from langchain_groq import ChatGroq\n",
    "llm = ChatGroq(model=\"gemma2-9b-it\")\n",
    "llm"
   ]
  },
  {
   "cell_type": "code",
   "execution_count": 6,
   "metadata": {},
   "outputs": [],
   "source": [
    "from typing_extensions import TypedDict\n",
    "from langgraph.graph import StateGraph,START,END\n",
    "class State(TypedDict):\n",
    "      code: str\n",
    "      reviewed_code: str\n",
    "      testcases: str\n",
    "      testCaseResults: str\n",
    "      Summary: str\n"
   ]
  },
  {
   "cell_type": "code",
   "execution_count": 7,
   "metadata": {},
   "outputs": [],
   "source": [
    "#nodes\n",
    "\n",
    "def analyzeCode(state: State) -> str:\n",
    "    \"\"\"\n",
    "    Analyze the code and return the updated code.\n",
    "    \"\"\"\n",
    "    msg = llm.invoke(f\"You are a code reviewer.Please analyze the following code and return updated code.Code: {state['code']}\",)\n",
    "    return {\"reviewed_code\":msg.content}\n",
    "\n",
    "def analyzeTestCases(state: State) -> str:\n",
    "    \"\"\"\n",
    "    Analyze the code  and create test cases for the reviewed_code .\n",
    "    \"\"\"\n",
    "    msg = llm.invoke(f\"You are test case creator. Genrate test cases for the reviewed_code. Test cases: {state['reviewed_code']}\",)\n",
    "    return {\"testcases\":msg.content}\n",
    "\n",
    "def excecuteTestcases(state: State) -> str:\n",
    "    \"\"\"\n",
    "    Execute the test cases and return the results.\n",
    "    \"\"\"\n",
    "    msg = llm.invoke(f\"Execute the test cases and return the results. Test cases: {state['testcases']}\",)\n",
    "    return {\"testCaseResults\":msg.content}\n",
    "\n",
    "def analyzefailedResults(state: State) -> str:\n",
    "    \"\"\"\n",
    "    Analyze the failed test cases and return the summary.\n",
    "    \"\"\"\n",
    "    msg = llm.invoke(f\"Analyze the failed test cases and return the summary. Test cases: {state['testCaseResults']}\",)\n",
    "    return {\"Summary\":msg.content}"
   ]
  },
  {
   "cell_type": "code",
   "execution_count": 8,
   "metadata": {},
   "outputs": [
    {
     "data": {
      "image/png": "[encoded data removed]",
      "text/plain": [
       "<langgraph.graph.state.CompiledStateGraph object at 0x1107b91f0>"
      ]
     },
     "execution_count": 8,
     "metadata": {},
     "output_type": "execute_result"
    }
   ],
   "source": [
    "workflow = StateGraph(State)\n",
    "\n",
    "workflow.add_node(\"analyzeCode\", analyzeCode)\n",
    "workflow.add_node(\"analyzeTestCases\", analyzeTestCases)\n",
    "workflow.add_node(\"excecuteTestcases\", excecuteTestcases)\n",
    "workflow.add_node(\"analyzefailedResults\", analyzefailedResults)\n",
    "workflow.add_edge(START, \"analyzeCode\")\n",
    "workflow.add_edge(\"analyzeCode\", \"analyzeTestCases\")\n",
    "workflow.add_edge(\"analyzeTestCases\", \"excecuteTestcases\")\n",
    "workflow.add_edge(\"excecuteTestcases\", \"analyzefailedResults\")\n",
    "workflow.add_edge(\"analyzefailedResults\", END)\n",
    "\n",
    "workflow.compile()"
   ]
  },
  {
   "cell_type": "code",
   "execution_count": 12,
   "metadata": {},
   "outputs": [
    {
     "data": {
      "text/plain": [
       "{'code': 'def add_numbers(a: float, b: float) -> float:',\n",
       " 'reviewed_code': '```python\\ndef add_numbers(a: float, b: float) -> float:\\n    \"\"\"Adds two numbers together.\\n\\n    Args:\\n        a: The first number.\\n        b: The second number.\\n\\n    Returns:\\n        The sum of the two numbers.\\n    \"\"\"\\n    return a + b\\n```\\n\\n**Analysis:**\\n\\nThe original code snippet is functional and correctly adds two floating-point numbers. However, it lacks documentation.\\n\\n**Improvements:**\\n\\n* **Docstring:** Added a docstring to explain the function\\'s purpose, arguments, and return value. This improves readability and maintainability.\\n\\n**Explanation:**\\n\\n* **Docstring:**  A docstring (documentation string) enclosed in triple quotes (`\"\"\"Docstring goes here\"\"\"`) is essential for documenting your code. It clearly explains what the function does, what inputs it expects, and what output it produces.  \\n\\nLet me know if you\\'d like me to review any other code snippets!\\n',\n",
       " 'testcases': \"## Test Cases for `add_numbers` Function\\n\\nHere are some test cases for the `add_numbers` function, covering different scenarios:\\n\\n**1. Positive Numbers:**\\n\\n* Input: `a = 5.0`, `b = 3.5`\\n* Expected Output: `8.5`\\n\\n**2. Negative Numbers:**\\n\\n* Input: `a = -2.7`, `b = -1.9`\\n* Expected Output: `-4.6`\\n\\n**3. Zero:**\\n\\n* Input: `a = 0.0`, `b = 10.5`\\n* Expected Output: `10.5`\\n\\n**4. Large Numbers:**\\n\\n* Input: `a = 123456.789`, `b = 98765.4321`\\n* Expected Output: `222222.2211`\\n\\n**5. Small Numbers:**\\n\\n* Input: `a = 0.001`, `b = 0.002`\\n* Expected Output: `0.003`\\n\\n**6. Mixed Signs:**\\n\\n* Input: `a = 10.2`, `b = -5.8`\\n* Expected Output: `4.4`\\n\\n**7. Edge Cases:**\\n\\n* Input: `a = float('inf'), b = 5.0`\\n* Expected Output: `inf` \\n\\n\\n\\nThese test cases aim to cover a range of inputs and scenarios to ensure the `add_numbers` function works correctly.\\n\\n**Note:**\\n\\n* You can implement these test cases using a testing framework like `unittest` or `pytest` in Python. \\n* Consider adding more test cases based on the specific requirements and potential use cases of the function.\\n\",\n",
       " 'testCaseResults': 'I can\\'t execute code directly as I\\'m a text-based AI.  \\n\\nHowever, I can help you write the Python code to execute these test cases using the `unittest` framework:\\n\\n```python\\nimport unittest\\n\\ndef add_numbers(a, b):\\n  \"\"\"Adds two numbers together.\"\"\"\\n  return a + b\\n\\nclass TestAddNumbers(unittest.TestCase):\\n\\n    def test_positive_numbers(self):\\n        self.assertEqual(add_numbers(5.0, 3.5), 8.5)\\n\\n    def test_negative_numbers(self):\\n        self.assertEqual(add_numbers(-2.7, -1.9), -4.6)\\n\\n    def test_zero(self):\\n        self.assertEqual(add_numbers(0.0, 10.5), 10.5)\\n\\n    def test_large_numbers(self):\\n        self.assertEqual(add_numbers(123456.789, 98765.4321), 222222.2211)\\n\\n    def test_small_numbers(self):\\n        self.assertEqual(add_numbers(0.001, 0.002), 0.003)\\n\\n    def test_mixed_signs(self):\\n        self.assertEqual(add_numbers(10.2, -5.8), 4.4)\\n\\n    def test_edge_case_infinity(self):\\n        self.assertEqual(add_numbers(float(\\'inf\\'), 5.0), float(\\'inf\\'))  \\n\\nif __name__ == \\'__main__\\':\\n    unittest.main()\\n```\\n\\n**Explanation:**\\n\\n1. **Import `unittest`:** This line imports the necessary module for writing and running tests.\\n2. **Define `add_numbers` function:** This is your function that you want to test.\\n3. **Create a test class:** `TestAddNumbers` inherits from `unittest.TestCase`. This is where you\\'ll define your test methods.\\n4. **Write test methods:** Each test method starts with `test_` and tests a specific scenario. \\n   -  `self.assertEqual(a, b)`: This assertion checks if `a` is equal to `b`. If they are not equal, the test will fail.\\n5. **Run the tests:**\\n   -  `if __name__ == \\'__main__\\': unittest.main()` This block ensures the tests run only when the script is executed directly.\\n\\n**To run the tests:**\\n\\n1. Save this code as a Python file (e.g., `test_add_numbers.py`).\\n2. Open a terminal or command prompt and navigate to the directory where you saved the file.\\n3. Run the command `python test_add_numbers.py`.\\n\\nThe output will show you which tests passed and which failed, along with any error messages.\\n\\n\\n\\nLet me know if you have any other questions.\\n',\n",
       " 'Summary': \"Please provide me with the failed test cases so I can analyze them. I need the specific test case inputs and the expected outputs to determine why they failed. \\n\\nFor example, tell me:\\n\\n* **Test case name:**  (e.g., `test_edge_case_infinity`)\\n* **Input values:** (e.g.,  `add_numbers(float('inf'), 5.0)`)\\n* **Expected output:** (e.g., `float('inf')`)\\n* **Actual output:** (what the code returned) \\n\\n\\n\\nOnce I have this information, I can help you understand why the test case failed and suggest potential solutions. \\n\"}"
      ]
     },
     "execution_count": 12,
     "metadata": {},
     "output_type": "execute_result"
    }
   ],
   "source": [
    "graph = workflow.compile()\n",
    "graph.invoke({\"code\":\"def add_numbers(a: float, b: float) -> float:\"})"
   ]
  }
 ],
 "metadata": {
  "kernelspec": {
   "display_name": "Python 3",
   "language": "python",
   "name": "python3"
  },
  "language_info": {
   "codemirror_mode": {
    "name": "ipython",
    "version": 3
   },
   "file_extension": ".py",
   "mimetype": "text/x-python",
   "name": "python",
   "nbconvert_exporter": "python",
   "pygments_lexer": "ipython3",
   "version": "3.12.0"
  }
 },
 "nbformat": 4,
 "nbformat_minor": 2
}
