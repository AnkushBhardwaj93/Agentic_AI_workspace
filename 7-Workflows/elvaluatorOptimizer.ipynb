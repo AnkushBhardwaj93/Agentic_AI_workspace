{
 "cells": [
  {
   "cell_type": "markdown",
   "id": "5f777fef",
   "metadata": {},
   "source": [
    "\n",
    "\n",
    "      Input --> LLM\n",
    "      LLM --> Feedback\n",
    "      Feedback --> LLM"
   ]
  },
  {
   "cell_type": "code",
   "execution_count": null,
   "id": "bf03264f",
   "metadata": {},
   "outputs": [],
   "source": [
    "## create a llm model\n",
    "import os\n",
    "from dotenv import load_dotenv\n",
    "load_dotenv()\n",
    "os.environ[\"GROQ_API_KEY\"] = os.getenv(\"GROQ_API_KEY\")\n",
    "from langchain_groq import ChatGroq\n",
    "llm = ChatGroq(model=\"gemma2-9b-it\")\n",
    "llm"
   ]
  },
  {
   "cell_type": "code",
   "execution_count": 15,
   "id": "ddcd2779",
   "metadata": {},
   "outputs": [],
   "source": [
    "from typing_extensions import Literal, TypedDict, Annotated\n",
    "from pydantic import BaseModel, Field\n",
    "\n",
    "class State(TypedDict):\n",
    "      topic: str\n",
    "      feedback: str\n",
    "      joke: str\n",
    "      funny_or_not: str\n",
    "\n",
    "# schema for structured otput to use in evaluation\n",
    "class Feedback(BaseModel):\n",
    "      grade: Literal[\"funny\", \"not funny\"] = Field(description=\"funny or not funny\",)\n",
    "      feedback: str = Field(description=\"if the joke is not funny provide feedback on the joke\",)\n",
    "\n",
    "evaluator = llm.with_structured_output(Feedback)\n",
    "# evaluator = llm.with_structured_output(Feedback, state=State)"
   ]
  },
  {
   "cell_type": "code",
   "execution_count": 13,
   "id": "4dc10f6f",
   "metadata": {},
   "outputs": [],
   "source": [
    "def llm_call_genrator(state: State):\n",
    "    \"\"\"\n",
    "    This function genrate joke on the topic\n",
    "    \"\"\"\n",
    "    if state.get(\"feedback\"):\n",
    "      msg = llm.invoke(f\"Generate a joke on the topic {state['topic']} considering  the feedback is {state['feedback']}\")\n",
    "    else:\n",
    "      msg = llm.invoke(f\"Generate a joke on the topic {state['topic']}\")\n",
    "    return {\"joke\": msg.content}\n"
   ]
  },
  {
   "cell_type": "code",
   "execution_count": 16,
   "id": "dac806ba",
   "metadata": {},
   "outputs": [],
   "source": [
    "def llm_call_evaluator(state: State):\n",
    "    \"\"\"\n",
    "    This function evalute the joke\n",
    "    \"\"\"\n",
    "    msg = llm.invoke(f\"Grade the joke {state['joke']} on the topic {state['topic']}\")\n",
    "    return {\"funny_or_not\":grade.grade, \"feedback\":msg.content}"
   ]
  },
  {
   "cell_type": "code",
   "execution_count": 17,
   "id": "c35687b4",
   "metadata": {},
   "outputs": [],
   "source": [
    "def route_joke(state: State):\n",
    "    \"\"\"\n",
    "    This function route the joke to the llm\n",
    "    \"\"\"\n",
    "    if state[\"funny_or_not\"] == \"not funny\":\n",
    "      return \"Rejected + Feedback\"\n",
    "    elif state[\"funny_or_not\"] == \"funny\":\n",
    "      return \"Accepted\""
   ]
  },
  {
   "cell_type": "code",
   "execution_count": 27,
   "id": "11d86302",
   "metadata": {},
   "outputs": [
    {
     "data": {
      "image/png": "[encoded data removed]",
      "text/plain": [
       "<langgraph.graph.state.CompiledStateGraph object at 0x11495e060>"
      ]
     },
     "execution_count": 27,
     "metadata": {},
     "output_type": "execute_result"
    }
   ],
   "source": [
    "#Build Workflow\n",
    "from langgraph.graph import StateGraph,START,END\n",
    "\n",
    "\n",
    "optimizer_builder = StateGraph(State)\n",
    "\n",
    "optimizer_builder.add_node(\"llm_call_genrator\", llm_call_genrator)\n",
    "optimizer_builder.add_node(\"llm_call_evaluator\", llm_call_evaluator)\n",
    "\n",
    "optimizer_builder.add_conditional_edges(\n",
    "    \"llm_call_evaluator\",\n",
    "    route_joke,\n",
    "    {  # Name returned by route_joke : Name of next node to visit\n",
    "        \"Accepted\": END,\n",
    "        \"Rejected + Feedback\": \"llm_call_genrator\",\n",
    "    },\n",
    "\n",
    ")\n",
    "optimizer_builder.add_edge(START, \"llm_call_genrator\")\n",
    "optimizer_builder.add_edge(\"llm_call_genrator\", \"llm_call_evaluator\")\n",
    "optimizer_builder.add_edge(\"llm_call_evaluator\", END)\n",
    "\n",
    "\n",
    "optimizer_builder.compile()"
   ]
  }
 ],
 "metadata": {
  "kernelspec": {
   "display_name": "Python 3",
   "language": "python",
   "name": "python3"
  },
  "language_info": {
   "codemirror_mode": {
    "name": "ipython",
    "version": 3
   },
   "file_extension": ".py",
   "mimetype": "text/x-python",
   "name": "python",
   "nbconvert_exporter": "python",
   "pygments_lexer": "ipython3",
   "version": "3.12.0"
  }
 },
 "nbformat": 4,
 "nbformat_minor": 5
}
