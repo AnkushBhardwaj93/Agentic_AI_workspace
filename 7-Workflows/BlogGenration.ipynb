{
 "cells": [
  {
   "cell_type": "markdown",
   "id": "2e0eef4f",
   "metadata": {},
   "source": [
    "Here we will perfrom blog creation using orchestrator workflow"
   ]
  },
  {
   "cell_type": "code",
   "execution_count": 1,
   "id": "3520ee72",
   "metadata": {},
   "outputs": [
    {
     "data": {
      "text/plain": [
       "ChatGroq(client=<groq.resources.chat.completions.Completions object at 0x10dc643b0>, async_client=<groq.resources.chat.completions.AsyncCompletions object at 0x10dc65520>, model_name='gemma2-9b-it', model_kwargs={}, groq_api_key=SecretStr('**********'))"
      ]
     },
     "execution_count": 1,
     "metadata": {},
     "output_type": "execute_result"
    }
   ],
   "source": [
    "# Connect to grok for model gemma2-9b-it. \n",
    "# Use key from environment file\n",
    "# create llm using chatGrok\n",
    "\n",
    "import os\n",
    "from langchain_groq import ChatGroq\n",
    "from dotenv import load_dotenv\n",
    "load_dotenv()\n",
    "os.environ[\"GROQ_API_KEY\"] = os.getenv(\"GROQ_API_KEY\")\n",
    "llm = ChatGroq(model=\"gemma2-9b-it\")\n",
    "llm"
   ]
  },
  {
   "cell_type": "code",
   "execution_count": null,
   "id": "1a088a41",
   "metadata": {},
   "outputs": [],
   "source": []
  }
 ],
 "metadata": {
  "kernelspec": {
   "display_name": "Python 3",
   "language": "python",
   "name": "python3"
  },
  "language_info": {
   "codemirror_mode": {
    "name": "ipython",
    "version": 3
   },
   "file_extension": ".py",
   "mimetype": "text/x-python",
   "name": "python",
   "nbconvert_exporter": "python",
   "pygments_lexer": "ipython3",
   "version": "3.12.0"
  }
 },
 "nbformat": 4,
 "nbformat_minor": 5
}
