{
 "cells": [
  {
   "cell_type": "markdown",
   "id": "66f510d5",
   "metadata": {},
   "source": [
    "orchestrator : act like a manager and distributes task among workers"
   ]
  },
  {
   "cell_type": "code",
   "execution_count": 28,
   "id": "54670ca2",
   "metadata": {},
   "outputs": [
    {
     "data": {
      "text/plain": [
       "ChatGroq(client=<groq.resources.chat.completions.Completions object at 0x109de14c0>, async_client=<groq.resources.chat.completions.AsyncCompletions object at 0x109d8c5f0>, model_name='gemma2-9b-it', model_kwargs={}, groq_api_key=SecretStr('**********'))"
      ]
     },
     "execution_count": 28,
     "metadata": {},
     "output_type": "execute_result"
    }
   ],
   "source": [
    "## create a llm model\n",
    "import os\n",
    "from dotenv import load_dotenv\n",
    "load_dotenv()\n",
    "os.environ[\"GROQ_API_KEY\"] = os.getenv(\"GROQ_API_KEY\")\n",
    "from langchain_groq import ChatGroq\n",
    "llm = ChatGroq(model=\"gemma2-9b-it\")\n",
    "llm"
   ]
  },
  {
   "cell_type": "code",
   "execution_count": 29,
   "id": "0f07ff50",
   "metadata": {},
   "outputs": [],
   "source": [
    "from typing_extensions import Literal, TypedDict, Annotated\n",
    "from langgraph.graph import StateGraph,START,END\n",
    "from pydantic import BaseModel, Field\n",
    "from langchain_core.messages import HumanMessage, SystemMessage\n",
    "\n",
    "\n",
    "class Section(BaseModel):\n",
    "      name:str = Field(description=\"name of the section\")\n",
    "      description:str = Field(description=\"description of the section\")\n",
    "\n",
    "class Sections(BaseModel):\n",
    "      sections: list[Section]=Field(description=\"list of sections\")\n",
    "      title:str = Field(description=\"title of the document\")\n",
    "\n",
    "planner = llm.with_structured_output(Sections)"
   ]
  },
  {
   "cell_type": "code",
   "execution_count": null,
   "id": "d3d4d7c1",
   "metadata": {},
   "outputs": [],
   "source": [
    "# As i need to create two state , one for overall and one for each worker.\n",
    "# Workers are craeted dynamically using send api from langGraph\n",
    "from typing import Annotated, List\n",
    "import operator\n",
    "\n",
    "# Graph state\n",
    "class State(TypedDict):\n",
    "    topic: str  # Report topic\n",
    "    sections: list[Section]  # List of report sections\n",
    "    completed_sections: Annotated[\n",
    "        list, operator.add\n",
    "    ]  # All workers write to this key in parallel\n",
    "    final_report: str  # Final report\n",
    "\n",
    "class WorkerState(TypedDict):\n",
    "    section:Section\n",
    "    completed_sections: Annotated[list,operator.add]"
   ]
  },
  {
   "cell_type": "code",
   "execution_count": 31,
   "id": "a190eb8f",
   "metadata": {},
   "outputs": [],
   "source": [
    "#Nodes\n",
    "def orchestrator_node(state:State):\n",
    "    \"\"\"\n",
    "    orchestrator node that genrates plan for the report\n",
    "    \"\"\"\n",
    "    report_sections= planner.invoke(\n",
    "      [\n",
    "            SystemMessage(\n",
    "                content=\"You are a report planner. You will be given a topic. You will generate a plan for the report based on the title.\"\n",
    "            ),\n",
    "            HumanMessage(\n",
    "                content=f\"Here is the report topic: {state['topic']}\"\n",
    "            ),\n",
    "      ]\n",
    "    )\n",
    "    return {\"sections\": report_sections.sections}"
   ]
  },
  {
   "cell_type": "code",
   "execution_count": 32,
   "id": "0f96417d",
   "metadata": {},
   "outputs": [],
   "source": [
    "\n",
    "def llm_call(state: WorkerState):\n",
    "    \"\"\"Worker writes a section of the report\"\"\"\n",
    "\n",
    "    # Generate section\n",
    "    section = llm.invoke(\n",
    "        [\n",
    "            SystemMessage(\n",
    "                content=\"Write a report section following the provided name and description. Include no preamble for each section. Use markdown formatting.\"\n",
    "            ),\n",
    "            HumanMessage(\n",
    "                content=f\"Here is the section name: {state['section'].name} and description: {state['section'].description}\"\n",
    "            ),\n",
    "        ]\n",
    "    )\n",
    "\n",
    "    # Write the updated section to completed sections\n",
    "    return {\"completed_sections\": [section.content]}"
   ]
  },
  {
   "cell_type": "code",
   "execution_count": 33,
   "id": "a6791de3",
   "metadata": {},
   "outputs": [],
   "source": [
    "def synthesizer(state: State):\n",
    "    \"\"\"Synthesize full report from sections\"\"\"\n",
    "\n",
    "    # List of completed sections\n",
    "    completed_sections = state[\"completed_sections\"]\n",
    "\n",
    "    # Format completed section to str to use as context for final sections\n",
    "    completed_report_sections = \"\\n\\n---\\n\\n\".join(completed_sections)\n",
    "\n",
    "    return {\"final_report\": completed_report_sections}"
   ]
  },
  {
   "cell_type": "code",
   "execution_count": 38,
   "id": "59289923",
   "metadata": {},
   "outputs": [],
   "source": [
    "# Conditional edge function to create llm_call workers that each write a section of the report\n",
    "from langgraph.constants import Send\n",
    "\n",
    "def assign_workers(state: State):\n",
    "    \"\"\"Assign a worker to each section in the plan\"\"\"\n",
    "\n",
    "    # Kick off section writing in parallel via Send() API\n",
    "    return [Send(\"llm_call\", {\"section\": s}) for s in state[\"sections\"]]"
   ]
  },
  {
   "cell_type": "code",
   "execution_count": 39,
   "id": "b9e59395",
   "metadata": {},
   "outputs": [
    {
     "data": {
      "image/png": "[encoded data removed]",
      "text/plain": [
       "<langgraph.graph.state.CompiledStateGraph object at 0x109e82f00>"
      ]
     },
     "execution_count": 39,
     "metadata": {},
     "output_type": "execute_result"
    }
   ],
   "source": [
    "# Build workflow\n",
    "orchestrator_worker_builder = StateGraph(State)\n",
    "orchestrator_worker_builder.add_node( \"orchestrator\", orchestrator_node)\n",
    "orchestrator_worker_builder.add_node( \"llm_call\", llm_call)\n",
    "orchestrator_worker_builder.add_node( \"synthesizer\", synthesizer)\n",
    "orchestrator_worker_builder.add_edge(START, \"orchestrator\")\n",
    "\n",
    "orchestrator_worker_builder.add_conditional_edges(\"orchestrator\", assign_workers, [\"llm_call\"])\n",
    "orchestrator_worker_builder.add_edge(\"llm_call\", \"synthesizer\")\n",
    "orchestrator_worker_builder.add_edge(\"synthesizer\", END)\n",
    "\n",
    "# Create the graph\n",
    "orchestrator_worker_builder.compile()\n"
   ]
  },
  {
   "cell_type": "code",
   "execution_count": 40,
   "id": "c14e4cb4",
   "metadata": {},
   "outputs": [
    {
     "data": {
      "text/plain": [
       "{'topic': 'The impact of climate change on global food security',\n",
       " 'sections': [Section(name='Climate Change Impacts', description='Overview of climate change and its impacts on agriculture'),\n",
       "  Section(name='Crop and Livestock Impacts', description='Specific effects on different food crops and livestock'),\n",
       "  Section(name='Regional Vulnerability', description='Regional disparities in food security vulnerability'),\n",
       "  Section(name='Solutions and Strategies', description='Mitigation and adaptation strategies for food security'),\n",
       "  Section(name='Policy and Global Cooperation', description='Policy recommendations and global cooperation')],\n",
       " 'completed_sections': [\"## Climate Change Impacts and Agriculture\\n\\nClimate change is a long-term shift in global weather patterns, primarily driven by the increasing concentration of greenhouse gases in the atmosphere. These gases, such as carbon dioxide, methane, and nitrous oxide, trap heat and cause the planet's temperature to rise. \\n\\nThis warming trend has profound impacts on agriculture, affecting everything from crop yields to livestock production. Some key impacts include:\\n\\n* **Changes in Temperature and Precipitation:** Rising temperatures and changes in rainfall patterns can disrupt crop growth cycles, leading to reduced yields and increased water stress. \\n\\n* **Extreme Weather Events:** Climate change is increasing the frequency and intensity of extreme weather events such as droughts, floods, and heatwaves. These events can devastate crops, damage infrastructure, and disrupt agricultural livelihoods.\\n\\n* **Sea Level Rise:** In coastal areas, sea level rise threatens valuable agricultural land with saltwater intrusion, making it unsuitable for crop production.\\n\\n* **Pest and Disease Outbreaks:** Warmer temperatures and changing precipitation patterns can create favorable conditions for pests and diseases, leading to increased crop losses.\\n\\n* **Soil Degradation:** Climate change can exacerbate soil erosion, desertification, and nutrient depletion, further impacting agricultural productivity.\\n\\nThese impacts pose a significant threat to global food security, as agriculture is a fundamental pillar of human societies. Addressing climate change and its impacts on agriculture is crucial for ensuring a sustainable future for food production. \\n\\n\\n\",\n",
       "  '## Crop and Livestock Impacts\\n\\n**Cereals:**\\n* **Wheat:**  Increased temperatures and altered precipitation patterns can negatively impact wheat yields. Heat stress during flowering can reduce grain size and quality.\\n* **Rice:**  Drought and flooding, both exacerbated by climate change, can significantly damage rice crops.\\n* **Maize:**  Similar to wheat, maize is susceptible to heat stress, with potential impacts on yield and grain quality.\\n\\n**Legumes:**\\n* **Soybeans:**  Extreme temperatures and changes in precipitation can affect soybean growth and development, leading to reduced yields.\\n* **Peanuts:**  Climate change can increase the risk of drought stress, which can damage peanut plants and reduce nut production.\\n\\n**Fruits and Vegetables:**\\n* **Apples:**  Changes in temperature and precipitation can affect apple blossom timing and fruit development, impacting yields and quality.\\n* **Tomatoes:**  Heat stress during the fruit ripening stage can reduce tomato size and quality.\\n* **Citrus:**  Drought and extreme temperatures can damage citrus trees and affect fruit production.\\n\\n**Livestock:**\\n* **Cattle:**  Heat stress can reduce cattle productivity, leading to decreased milk production and weight gain.\\n* **Sheep:**  Drought conditions can negatively impact sheep grazing and lead to weight loss.\\n* **Poultry:**  Extreme temperatures can increase heat stress in poultry, affecting egg production and overall health.\\n* **Aquaculture:**  Rising ocean temperatures and acidification can threaten fish populations and aquaculture productivity.\\n\\n\\n\\n',\n",
       "  '## Regional Vulnerability and Disparities in Food Security Vulnerability\\n\\nSignificant regional disparities exist in food security vulnerability.  Regions characterized by:\\n\\n* **Limited agricultural productivity:**  Regions with arid climates, fragile ecosystems, or inadequate infrastructure often struggle to produce sufficient food, making them more susceptible to shocks like droughts or floods.\\n* **High poverty rates:** Poverty restricts access to nutritious food, leading to malnutrition and increased vulnerability to food insecurity. \\n* **Weak social safety nets:**  Regions lacking robust social assistance programs are less equipped to provide support during food crises.\\n* **Conflict and instability:** Conflict disrupts agricultural production, displaces populations, and hinders access to food, exacerbating vulnerability.\\n\\nThese factors combine to create a complex web of interconnected challenges, leading to disproportionate food insecurity in certain regions.  \\n\\n\\n',\n",
       "  '## Solutions and Strategies\\n\\n### Mitigation and Adaptation Strategies for Food Security\\n\\n**Mitigation:** \\n\\n* **Sustainable Agricultural Practices:** Implementing practices like agroforestry, crop rotation, no-till farming, and integrated pest management can reduce greenhouse gas emissions from agriculture, conserve soil health, and enhance water use efficiency. \\n* **Reducing Food Waste:**  Addressing food loss and waste throughout the supply chain, from production to consumption, can significantly reduce the environmental footprint of food systems and improve resource utilization.\\n* **Renewable Energy in Agriculture:**  Transitioning to renewable energy sources for farm operations, such as solar, wind, and biogas, can lower reliance on fossil fuels and contribute to climate change mitigation.\\n\\n**Adaptation:**\\n\\n* **Climate-Resilient Crops:**  Developing and promoting drought-tolerant, heat-resistant, and pest-resistant crop varieties can enhance agricultural productivity in the face of changing climate conditions.\\n* **Water Management:**  Investing in efficient irrigation systems, rainwater harvesting, and drought-resistant crops can help ensure water security for agriculture in regions facing water scarcity.\\n* **Diversification of Crops and Livestock:**  Encouraging farmers to diversify their production systems can reduce vulnerability to climate shocks and market fluctuations.\\n* **Early Warning Systems:**  Developing robust early warning systems for extreme weather events can allow farmers to take timely action to protect their crops and livestock.\\n* **Social Safety Nets:**  Strengthening social safety nets, such as food assistance programs, can help protect vulnerable populations from food insecurity during climate-related disasters.\\n\\n\\n',\n",
       "  '## Policy and Global Cooperation\\n\\n**Policy Recommendations:**\\n\\n* Implement comprehensive national policies that promote sustainable land management practices, including incentives for agroforestry, reforestation, and soil conservation.\\n* Invest in research and development of innovative agricultural technologies that enhance productivity while minimizing environmental impact.\\n* Strengthen land tenure security and empower local communities in land management decisions.\\n\\n**Global Cooperation:**\\n\\n* Foster international collaboration on sharing best practices and knowledge related to sustainable land management.\\n* Facilitate technology transfer and capacity building in developing countries to support sustainable land use.\\n* Establish global monitoring systems to track land degradation trends and assess the effectiveness of interventions.\\n* Promote financial mechanisms and investments to support sustainable land management initiatives worldwide.\\n\\n\\n'],\n",
       " 'final_report': \"## Climate Change Impacts and Agriculture\\n\\nClimate change is a long-term shift in global weather patterns, primarily driven by the increasing concentration of greenhouse gases in the atmosphere. These gases, such as carbon dioxide, methane, and nitrous oxide, trap heat and cause the planet's temperature to rise. \\n\\nThis warming trend has profound impacts on agriculture, affecting everything from crop yields to livestock production. Some key impacts include:\\n\\n* **Changes in Temperature and Precipitation:** Rising temperatures and changes in rainfall patterns can disrupt crop growth cycles, leading to reduced yields and increased water stress. \\n\\n* **Extreme Weather Events:** Climate change is increasing the frequency and intensity of extreme weather events such as droughts, floods, and heatwaves. These events can devastate crops, damage infrastructure, and disrupt agricultural livelihoods.\\n\\n* **Sea Level Rise:** In coastal areas, sea level rise threatens valuable agricultural land with saltwater intrusion, making it unsuitable for crop production.\\n\\n* **Pest and Disease Outbreaks:** Warmer temperatures and changing precipitation patterns can create favorable conditions for pests and diseases, leading to increased crop losses.\\n\\n* **Soil Degradation:** Climate change can exacerbate soil erosion, desertification, and nutrient depletion, further impacting agricultural productivity.\\n\\nThese impacts pose a significant threat to global food security, as agriculture is a fundamental pillar of human societies. Addressing climate change and its impacts on agriculture is crucial for ensuring a sustainable future for food production. \\n\\n\\n\\n\\n---\\n\\n## Crop and Livestock Impacts\\n\\n**Cereals:**\\n* **Wheat:**  Increased temperatures and altered precipitation patterns can negatively impact wheat yields. Heat stress during flowering can reduce grain size and quality.\\n* **Rice:**  Drought and flooding, both exacerbated by climate change, can significantly damage rice crops.\\n* **Maize:**  Similar to wheat, maize is susceptible to heat stress, with potential impacts on yield and grain quality.\\n\\n**Legumes:**\\n* **Soybeans:**  Extreme temperatures and changes in precipitation can affect soybean growth and development, leading to reduced yields.\\n* **Peanuts:**  Climate change can increase the risk of drought stress, which can damage peanut plants and reduce nut production.\\n\\n**Fruits and Vegetables:**\\n* **Apples:**  Changes in temperature and precipitation can affect apple blossom timing and fruit development, impacting yields and quality.\\n* **Tomatoes:**  Heat stress during the fruit ripening stage can reduce tomato size and quality.\\n* **Citrus:**  Drought and extreme temperatures can damage citrus trees and affect fruit production.\\n\\n**Livestock:**\\n* **Cattle:**  Heat stress can reduce cattle productivity, leading to decreased milk production and weight gain.\\n* **Sheep:**  Drought conditions can negatively impact sheep grazing and lead to weight loss.\\n* **Poultry:**  Extreme temperatures can increase heat stress in poultry, affecting egg production and overall health.\\n* **Aquaculture:**  Rising ocean temperatures and acidification can threaten fish populations and aquaculture productivity.\\n\\n\\n\\n\\n\\n---\\n\\n## Regional Vulnerability and Disparities in Food Security Vulnerability\\n\\nSignificant regional disparities exist in food security vulnerability.  Regions characterized by:\\n\\n* **Limited agricultural productivity:**  Regions with arid climates, fragile ecosystems, or inadequate infrastructure often struggle to produce sufficient food, making them more susceptible to shocks like droughts or floods.\\n* **High poverty rates:** Poverty restricts access to nutritious food, leading to malnutrition and increased vulnerability to food insecurity. \\n* **Weak social safety nets:**  Regions lacking robust social assistance programs are less equipped to provide support during food crises.\\n* **Conflict and instability:** Conflict disrupts agricultural production, displaces populations, and hinders access to food, exacerbating vulnerability.\\n\\nThese factors combine to create a complex web of interconnected challenges, leading to disproportionate food insecurity in certain regions.  \\n\\n\\n\\n\\n---\\n\\n## Solutions and Strategies\\n\\n### Mitigation and Adaptation Strategies for Food Security\\n\\n**Mitigation:** \\n\\n* **Sustainable Agricultural Practices:** Implementing practices like agroforestry, crop rotation, no-till farming, and integrated pest management can reduce greenhouse gas emissions from agriculture, conserve soil health, and enhance water use efficiency. \\n* **Reducing Food Waste:**  Addressing food loss and waste throughout the supply chain, from production to consumption, can significantly reduce the environmental footprint of food systems and improve resource utilization.\\n* **Renewable Energy in Agriculture:**  Transitioning to renewable energy sources for farm operations, such as solar, wind, and biogas, can lower reliance on fossil fuels and contribute to climate change mitigation.\\n\\n**Adaptation:**\\n\\n* **Climate-Resilient Crops:**  Developing and promoting drought-tolerant, heat-resistant, and pest-resistant crop varieties can enhance agricultural productivity in the face of changing climate conditions.\\n* **Water Management:**  Investing in efficient irrigation systems, rainwater harvesting, and drought-resistant crops can help ensure water security for agriculture in regions facing water scarcity.\\n* **Diversification of Crops and Livestock:**  Encouraging farmers to diversify their production systems can reduce vulnerability to climate shocks and market fluctuations.\\n* **Early Warning Systems:**  Developing robust early warning systems for extreme weather events can allow farmers to take timely action to protect their crops and livestock.\\n* **Social Safety Nets:**  Strengthening social safety nets, such as food assistance programs, can help protect vulnerable populations from food insecurity during climate-related disasters.\\n\\n\\n\\n\\n---\\n\\n## Policy and Global Cooperation\\n\\n**Policy Recommendations:**\\n\\n* Implement comprehensive national policies that promote sustainable land management practices, including incentives for agroforestry, reforestation, and soil conservation.\\n* Invest in research and development of innovative agricultural technologies that enhance productivity while minimizing environmental impact.\\n* Strengthen land tenure security and empower local communities in land management decisions.\\n\\n**Global Cooperation:**\\n\\n* Foster international collaboration on sharing best practices and knowledge related to sustainable land management.\\n* Facilitate technology transfer and capacity building in developing countries to support sustainable land use.\\n* Establish global monitoring systems to track land degradation trends and assess the effectiveness of interventions.\\n* Promote financial mechanisms and investments to support sustainable land management initiatives worldwide.\\n\\n\\n\"}"
      ]
     },
     "execution_count": 40,
     "metadata": {},
     "output_type": "execute_result"
    }
   ],
   "source": [
    "orchestrator_work = orchestrator_worker_builder.compile()\n",
    "# Run the graph\n",
    "orchestrator_work.invoke({\"topic\": \"The impact of climate change on global food security\"}\n",
    ")\n"
   ]
  }
 ],
 "metadata": {
  "kernelspec": {
   "display_name": "Python 3",
   "language": "python",
   "name": "python3"
  },
  "language_info": {
   "codemirror_mode": {
    "name": "ipython",
    "version": 3
   },
   "file_extension": ".py",
   "mimetype": "text/x-python",
   "name": "python",
   "nbconvert_exporter": "python",
   "pygments_lexer": "ipython3",
   "version": "3.12.0"
  }
 },
 "nbformat": 4,
 "nbformat_minor": 5
}
